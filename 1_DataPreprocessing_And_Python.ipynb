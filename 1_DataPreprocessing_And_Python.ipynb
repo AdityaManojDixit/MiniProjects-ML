{
  "nbformat": 4,
  "nbformat_minor": 0,
  "metadata": {
    "colab": {
      "provenance": []
    },
    "kernelspec": {
      "name": "python3",
      "display_name": "Python 3"
    },
    "language_info": {
      "name": "python"
    }
  },
  "cells": [
    {
      "cell_type": "markdown",
      "source": [
        "# Python Basics"
      ],
      "metadata": {
        "id": "wdB9MOQBzkSk"
      }
    },
    {
      "cell_type": "code",
      "execution_count": 1,
      "metadata": {
        "id": "FfXK_IeS_bqh"
      },
      "outputs": [],
      "source": [
        "import pandas as pd"
      ]
    },
    {
      "cell_type": "code",
      "source": [
        "df = pd.DataFrame()\n",
        "print(df)"
      ],
      "metadata": {
        "colab": {
          "base_uri": "https://localhost:8080/"
        },
        "id": "8xbaHAxD_xXc",
        "outputId": "6af04d23-d318-4fc0-9aac-95987843e44e"
      },
      "execution_count": 2,
      "outputs": [
        {
          "output_type": "stream",
          "name": "stdout",
          "text": [
            "Empty DataFrame\n",
            "Columns: []\n",
            "Index: []\n"
          ]
        }
      ]
    },
    {
      "cell_type": "code",
      "source": [
        "#Creating dataframe using list:\n",
        "\n",
        "x = ['python', 'pandas']\n",
        "\n",
        "df = pd.DataFrame(x) #Calling DataFrame constructor on list & loading x into dataframe.\n",
        "print(df)"
      ],
      "metadata": {
        "colab": {
          "base_uri": "https://localhost:8080/"
        },
        "id": "JuH-5SDTBZKs",
        "outputId": "3e46975c-2549-4b72-8976-a4e6e48eab3c"
      },
      "execution_count": 3,
      "outputs": [
        {
          "output_type": "stream",
          "name": "stdout",
          "text": [
            "        0\n",
            "0  python\n",
            "1  pandas\n"
          ]
        }
      ]
    },
    {
      "cell_type": "code",
      "source": [
        "#Creating dataFrame from Dictionary\n",
        "\n",
        "info = {\n",
        "    'ID' : [101,102,103],\n",
        "    'Department' : ['B.Sc', 'B.Tech', 'M.Tech']\n",
        "}\n",
        "\n",
        "df = pd.DataFrame(info) #Dictionary items (keys) are represented as columns & distinct entries (values) are represented as rows.\n",
        "print(df)"
      ],
      "metadata": {
        "colab": {
          "base_uri": "https://localhost:8080/"
        },
        "id": "eypwJqXFCDFE",
        "outputId": "3e66076e-c65f-4581-bce5-aa2fa189a676"
      },
      "execution_count": 4,
      "outputs": [
        {
          "output_type": "stream",
          "name": "stdout",
          "text": [
            "    ID Department\n",
            "0  101       B.Sc\n",
            "1  102     B.Tech\n",
            "2  103     M.Tech\n"
          ]
        }
      ]
    },
    {
      "cell_type": "code",
      "source": [
        "#Creating simple pandas series from list\n",
        "a = [1,7,2]\n",
        "myvar = pd.Series(a)\n",
        "print(myvar)"
      ],
      "metadata": {
        "colab": {
          "base_uri": "https://localhost:8080/"
        },
        "id": "NcNL4wvtC830",
        "outputId": "95078b13-fd5f-414b-8135-be46a0642a2a"
      },
      "execution_count": 5,
      "outputs": [
        {
          "output_type": "stream",
          "name": "stdout",
          "text": [
            "0    1\n",
            "1    7\n",
            "2    2\n",
            "dtype: int64\n"
          ]
        }
      ]
    },
    {
      "cell_type": "code",
      "source": [
        "print(myvar[0])"
      ],
      "metadata": {
        "colab": {
          "base_uri": "https://localhost:8080/"
        },
        "id": "P0xMee4GDTwX",
        "outputId": "338af595-4c67-48fe-c4cc-693d07d7b8e2"
      },
      "execution_count": 6,
      "outputs": [
        {
          "output_type": "stream",
          "name": "stdout",
          "text": [
            "1\n"
          ]
        }
      ]
    },
    {
      "cell_type": "code",
      "source": [
        "a = [1,7,2]\n",
        "myvar = pd.Series(a, index = [\"x\", \"y\",\"z\"]) #Creating labels. Using index argument we are naming labels.\n",
        "print(myvar)"
      ],
      "metadata": {
        "colab": {
          "base_uri": "https://localhost:8080/"
        },
        "id": "KOsX75T0DY_m",
        "outputId": "d98fda2f-ba5f-41cc-bfc1-1820f722b669"
      },
      "execution_count": 7,
      "outputs": [
        {
          "output_type": "stream",
          "name": "stdout",
          "text": [
            "x    1\n",
            "y    7\n",
            "z    2\n",
            "dtype: int64\n"
          ]
        }
      ]
    },
    {
      "cell_type": "code",
      "source": [
        "print(myvar[\"y\"]) #Access series item by labels."
      ],
      "metadata": {
        "colab": {
          "base_uri": "https://localhost:8080/"
        },
        "id": "3XK6Tac-D0yq",
        "outputId": "4df82652-7fec-4673-d3d2-22680021fe98"
      },
      "execution_count": 8,
      "outputs": [
        {
          "output_type": "stream",
          "name": "stdout",
          "text": [
            "7\n"
          ]
        }
      ]
    },
    {
      "cell_type": "code",
      "source": [
        "#Using dictionary to create series\n",
        "calories = {\"day1\":420, \"day2\":380, \"day3\":390}\n",
        "myvar = pd.Series(calories)\n",
        "print(myvar)"
      ],
      "metadata": {
        "colab": {
          "base_uri": "https://localhost:8080/"
        },
        "id": "cyPnAvdqELMA",
        "outputId": "88700431-33a1-4cad-e1b2-61797dad458a"
      },
      "execution_count": 9,
      "outputs": [
        {
          "output_type": "stream",
          "name": "stdout",
          "text": [
            "day1    420\n",
            "day2    380\n",
            "day3    390\n",
            "dtype: int64\n"
          ]
        }
      ]
    },
    {
      "cell_type": "code",
      "source": [
        "#Creating dataframe from Dict of series\n",
        "#Series is a one-dimensional array holding data of any type.\n",
        "info = {\n",
        "    'one' : pd.Series([1,2,3,4,5,6], index = ['a', 'b', 'c', 'd', 'e', 'f']),\n",
        "    'two' : pd.Series([1,2,3,4,5,6,7,8], index = ['a', 'b', 'c', 'd', 'e', 'f', 'g', 'h'])\n",
        "}\n",
        "\n",
        "d1 = pd.DataFrame(info)\n",
        "print(d1)"
      ],
      "metadata": {
        "colab": {
          "base_uri": "https://localhost:8080/"
        },
        "id": "2VSvVvXEEhq8",
        "outputId": "11a98160-8e98-473f-d4b6-643730f67505"
      },
      "execution_count": 10,
      "outputs": [
        {
          "output_type": "stream",
          "name": "stdout",
          "text": [
            "   one  two\n",
            "a  1.0    1\n",
            "b  2.0    2\n",
            "c  3.0    3\n",
            "d  4.0    4\n",
            "e  5.0    5\n",
            "f  6.0    6\n",
            "g  NaN    7\n",
            "h  NaN    8\n"
          ]
        }
      ]
    },
    {
      "cell_type": "code",
      "source": [
        "print(d1['one'])"
      ],
      "metadata": {
        "colab": {
          "base_uri": "https://localhost:8080/"
        },
        "id": "KvRnvllPEuAn",
        "outputId": "14475470-099d-48df-97a8-b78cbbf320db"
      },
      "execution_count": 11,
      "outputs": [
        {
          "output_type": "stream",
          "name": "stdout",
          "text": [
            "a    1.0\n",
            "b    2.0\n",
            "c    3.0\n",
            "d    4.0\n",
            "e    5.0\n",
            "f    6.0\n",
            "g    NaN\n",
            "h    NaN\n",
            "Name: one, dtype: float64\n"
          ]
        }
      ]
    },
    {
      "cell_type": "code",
      "source": [
        "import numpy as np"
      ],
      "metadata": {
        "id": "3kLK3nJVGY7J"
      },
      "execution_count": 12,
      "outputs": []
    },
    {
      "cell_type": "code",
      "source": [
        "df = pd.DataFrame(  np.random.random(size=(10,4))   ,   columns=[\"A\",'B',\"C\",\"D\"]  )\n",
        "print(df)"
      ],
      "metadata": {
        "colab": {
          "base_uri": "https://localhost:8080/"
        },
        "id": "AbRUOHJTGd74",
        "outputId": "f6cc7846-7efb-47ec-c8f7-0458e314f6fa"
      },
      "execution_count": 13,
      "outputs": [
        {
          "output_type": "stream",
          "name": "stdout",
          "text": [
            "          A         B         C         D\n",
            "0  0.990318  0.216010  0.108767  0.095495\n",
            "1  0.869204  0.811729  0.893684  0.754428\n",
            "2  0.883707  0.320118  0.347704  0.169835\n",
            "3  0.671842  0.437979  0.225554  0.685258\n",
            "4  0.128894  0.416035  0.228257  0.347536\n",
            "5  0.344500  0.284328  0.802312  0.472694\n",
            "6  0.239556  0.165397  0.667628  0.236181\n",
            "7  0.207452  0.965092  0.729414  0.711284\n",
            "8  0.359216  0.258743  0.105259  0.004204\n",
            "9  0.930420  0.827178  0.915859  0.687102\n"
          ]
        }
      ]
    },
    {
      "cell_type": "code",
      "source": [
        "#Creating new df and saving it as various formats\n",
        "\n",
        "df = pd.DataFrame(  np.random.random(size=(10,4))   ,   columns=[\"A\",'B',\"C\",\"D\"]  )\n",
        "df.head()"
      ],
      "metadata": {
        "colab": {
          "base_uri": "https://localhost:8080/",
          "height": 206
        },
        "id": "GaWliUxgG0X7",
        "outputId": "d3c241b1-b1f5-4934-940b-bd3a4696cef5"
      },
      "execution_count": 14,
      "outputs": [
        {
          "output_type": "execute_result",
          "data": {
            "text/plain": [
              "          A         B         C         D\n",
              "0  0.090315  0.642417  0.475039  0.207110\n",
              "1  0.703470  0.827926  0.418168  0.024089\n",
              "2  0.941620  0.104404  0.657615  0.618899\n",
              "3  0.190407  0.557520  0.913449  0.132229\n",
              "4  0.053817  0.367222  0.446009  0.623311"
            ],
            "text/html": [
              "\n",
              "  <div id=\"df-a0cab97a-2b46-4645-91e7-dce368ca8642\" class=\"colab-df-container\">\n",
              "    <div>\n",
              "<style scoped>\n",
              "    .dataframe tbody tr th:only-of-type {\n",
              "        vertical-align: middle;\n",
              "    }\n",
              "\n",
              "    .dataframe tbody tr th {\n",
              "        vertical-align: top;\n",
              "    }\n",
              "\n",
              "    .dataframe thead th {\n",
              "        text-align: right;\n",
              "    }\n",
              "</style>\n",
              "<table border=\"1\" class=\"dataframe\">\n",
              "  <thead>\n",
              "    <tr style=\"text-align: right;\">\n",
              "      <th></th>\n",
              "      <th>A</th>\n",
              "      <th>B</th>\n",
              "      <th>C</th>\n",
              "      <th>D</th>\n",
              "    </tr>\n",
              "  </thead>\n",
              "  <tbody>\n",
              "    <tr>\n",
              "      <th>0</th>\n",
              "      <td>0.090315</td>\n",
              "      <td>0.642417</td>\n",
              "      <td>0.475039</td>\n",
              "      <td>0.207110</td>\n",
              "    </tr>\n",
              "    <tr>\n",
              "      <th>1</th>\n",
              "      <td>0.703470</td>\n",
              "      <td>0.827926</td>\n",
              "      <td>0.418168</td>\n",
              "      <td>0.024089</td>\n",
              "    </tr>\n",
              "    <tr>\n",
              "      <th>2</th>\n",
              "      <td>0.941620</td>\n",
              "      <td>0.104404</td>\n",
              "      <td>0.657615</td>\n",
              "      <td>0.618899</td>\n",
              "    </tr>\n",
              "    <tr>\n",
              "      <th>3</th>\n",
              "      <td>0.190407</td>\n",
              "      <td>0.557520</td>\n",
              "      <td>0.913449</td>\n",
              "      <td>0.132229</td>\n",
              "    </tr>\n",
              "    <tr>\n",
              "      <th>4</th>\n",
              "      <td>0.053817</td>\n",
              "      <td>0.367222</td>\n",
              "      <td>0.446009</td>\n",
              "      <td>0.623311</td>\n",
              "    </tr>\n",
              "  </tbody>\n",
              "</table>\n",
              "</div>\n",
              "    <div class=\"colab-df-buttons\">\n",
              "\n",
              "  <div class=\"colab-df-container\">\n",
              "    <button class=\"colab-df-convert\" onclick=\"convertToInteractive('df-a0cab97a-2b46-4645-91e7-dce368ca8642')\"\n",
              "            title=\"Convert this dataframe to an interactive table.\"\n",
              "            style=\"display:none;\">\n",
              "\n",
              "  <svg xmlns=\"http://www.w3.org/2000/svg\" height=\"24px\" viewBox=\"0 -960 960 960\">\n",
              "    <path d=\"M120-120v-720h720v720H120Zm60-500h600v-160H180v160Zm220 220h160v-160H400v160Zm0 220h160v-160H400v160ZM180-400h160v-160H180v160Zm440 0h160v-160H620v160ZM180-180h160v-160H180v160Zm440 0h160v-160H620v160Z\"/>\n",
              "  </svg>\n",
              "    </button>\n",
              "\n",
              "  <style>\n",
              "    .colab-df-container {\n",
              "      display:flex;\n",
              "      gap: 12px;\n",
              "    }\n",
              "\n",
              "    .colab-df-convert {\n",
              "      background-color: #E8F0FE;\n",
              "      border: none;\n",
              "      border-radius: 50%;\n",
              "      cursor: pointer;\n",
              "      display: none;\n",
              "      fill: #1967D2;\n",
              "      height: 32px;\n",
              "      padding: 0 0 0 0;\n",
              "      width: 32px;\n",
              "    }\n",
              "\n",
              "    .colab-df-convert:hover {\n",
              "      background-color: #E2EBFA;\n",
              "      box-shadow: 0px 1px 2px rgba(60, 64, 67, 0.3), 0px 1px 3px 1px rgba(60, 64, 67, 0.15);\n",
              "      fill: #174EA6;\n",
              "    }\n",
              "\n",
              "    .colab-df-buttons div {\n",
              "      margin-bottom: 4px;\n",
              "    }\n",
              "\n",
              "    [theme=dark] .colab-df-convert {\n",
              "      background-color: #3B4455;\n",
              "      fill: #D2E3FC;\n",
              "    }\n",
              "\n",
              "    [theme=dark] .colab-df-convert:hover {\n",
              "      background-color: #434B5C;\n",
              "      box-shadow: 0px 1px 3px 1px rgba(0, 0, 0, 0.15);\n",
              "      filter: drop-shadow(0px 1px 2px rgba(0, 0, 0, 0.3));\n",
              "      fill: #FFFFFF;\n",
              "    }\n",
              "  </style>\n",
              "\n",
              "    <script>\n",
              "      const buttonEl =\n",
              "        document.querySelector('#df-a0cab97a-2b46-4645-91e7-dce368ca8642 button.colab-df-convert');\n",
              "      buttonEl.style.display =\n",
              "        google.colab.kernel.accessAllowed ? 'block' : 'none';\n",
              "\n",
              "      async function convertToInteractive(key) {\n",
              "        const element = document.querySelector('#df-a0cab97a-2b46-4645-91e7-dce368ca8642');\n",
              "        const dataTable =\n",
              "          await google.colab.kernel.invokeFunction('convertToInteractive',\n",
              "                                                    [key], {});\n",
              "        if (!dataTable) return;\n",
              "\n",
              "        const docLinkHtml = 'Like what you see? Visit the ' +\n",
              "          '<a target=\"_blank\" href=https://colab.research.google.com/notebooks/data_table.ipynb>data table notebook</a>'\n",
              "          + ' to learn more about interactive tables.';\n",
              "        element.innerHTML = '';\n",
              "        dataTable['output_type'] = 'display_data';\n",
              "        await google.colab.output.renderOutput(dataTable, element);\n",
              "        const docLink = document.createElement('div');\n",
              "        docLink.innerHTML = docLinkHtml;\n",
              "        element.appendChild(docLink);\n",
              "      }\n",
              "    </script>\n",
              "  </div>\n",
              "\n",
              "\n",
              "<div id=\"df-0137a293-bb2d-44b5-a897-278ae30cf0c8\">\n",
              "  <button class=\"colab-df-quickchart\" onclick=\"quickchart('df-0137a293-bb2d-44b5-a897-278ae30cf0c8')\"\n",
              "            title=\"Suggest charts\"\n",
              "            style=\"display:none;\">\n",
              "\n",
              "<svg xmlns=\"http://www.w3.org/2000/svg\" height=\"24px\"viewBox=\"0 0 24 24\"\n",
              "     width=\"24px\">\n",
              "    <g>\n",
              "        <path d=\"M19 3H5c-1.1 0-2 .9-2 2v14c0 1.1.9 2 2 2h14c1.1 0 2-.9 2-2V5c0-1.1-.9-2-2-2zM9 17H7v-7h2v7zm4 0h-2V7h2v10zm4 0h-2v-4h2v4z\"/>\n",
              "    </g>\n",
              "</svg>\n",
              "  </button>\n",
              "\n",
              "<style>\n",
              "  .colab-df-quickchart {\n",
              "      --bg-color: #E8F0FE;\n",
              "      --fill-color: #1967D2;\n",
              "      --hover-bg-color: #E2EBFA;\n",
              "      --hover-fill-color: #174EA6;\n",
              "      --disabled-fill-color: #AAA;\n",
              "      --disabled-bg-color: #DDD;\n",
              "  }\n",
              "\n",
              "  [theme=dark] .colab-df-quickchart {\n",
              "      --bg-color: #3B4455;\n",
              "      --fill-color: #D2E3FC;\n",
              "      --hover-bg-color: #434B5C;\n",
              "      --hover-fill-color: #FFFFFF;\n",
              "      --disabled-bg-color: #3B4455;\n",
              "      --disabled-fill-color: #666;\n",
              "  }\n",
              "\n",
              "  .colab-df-quickchart {\n",
              "    background-color: var(--bg-color);\n",
              "    border: none;\n",
              "    border-radius: 50%;\n",
              "    cursor: pointer;\n",
              "    display: none;\n",
              "    fill: var(--fill-color);\n",
              "    height: 32px;\n",
              "    padding: 0;\n",
              "    width: 32px;\n",
              "  }\n",
              "\n",
              "  .colab-df-quickchart:hover {\n",
              "    background-color: var(--hover-bg-color);\n",
              "    box-shadow: 0 1px 2px rgba(60, 64, 67, 0.3), 0 1px 3px 1px rgba(60, 64, 67, 0.15);\n",
              "    fill: var(--button-hover-fill-color);\n",
              "  }\n",
              "\n",
              "  .colab-df-quickchart-complete:disabled,\n",
              "  .colab-df-quickchart-complete:disabled:hover {\n",
              "    background-color: var(--disabled-bg-color);\n",
              "    fill: var(--disabled-fill-color);\n",
              "    box-shadow: none;\n",
              "  }\n",
              "\n",
              "  .colab-df-spinner {\n",
              "    border: 2px solid var(--fill-color);\n",
              "    border-color: transparent;\n",
              "    border-bottom-color: var(--fill-color);\n",
              "    animation:\n",
              "      spin 1s steps(1) infinite;\n",
              "  }\n",
              "\n",
              "  @keyframes spin {\n",
              "    0% {\n",
              "      border-color: transparent;\n",
              "      border-bottom-color: var(--fill-color);\n",
              "      border-left-color: var(--fill-color);\n",
              "    }\n",
              "    20% {\n",
              "      border-color: transparent;\n",
              "      border-left-color: var(--fill-color);\n",
              "      border-top-color: var(--fill-color);\n",
              "    }\n",
              "    30% {\n",
              "      border-color: transparent;\n",
              "      border-left-color: var(--fill-color);\n",
              "      border-top-color: var(--fill-color);\n",
              "      border-right-color: var(--fill-color);\n",
              "    }\n",
              "    40% {\n",
              "      border-color: transparent;\n",
              "      border-right-color: var(--fill-color);\n",
              "      border-top-color: var(--fill-color);\n",
              "    }\n",
              "    60% {\n",
              "      border-color: transparent;\n",
              "      border-right-color: var(--fill-color);\n",
              "    }\n",
              "    80% {\n",
              "      border-color: transparent;\n",
              "      border-right-color: var(--fill-color);\n",
              "      border-bottom-color: var(--fill-color);\n",
              "    }\n",
              "    90% {\n",
              "      border-color: transparent;\n",
              "      border-bottom-color: var(--fill-color);\n",
              "    }\n",
              "  }\n",
              "</style>\n",
              "\n",
              "  <script>\n",
              "    async function quickchart(key) {\n",
              "      const quickchartButtonEl =\n",
              "        document.querySelector('#' + key + ' button');\n",
              "      quickchartButtonEl.disabled = true;  // To prevent multiple clicks.\n",
              "      quickchartButtonEl.classList.add('colab-df-spinner');\n",
              "      try {\n",
              "        const charts = await google.colab.kernel.invokeFunction(\n",
              "            'suggestCharts', [key], {});\n",
              "      } catch (error) {\n",
              "        console.error('Error during call to suggestCharts:', error);\n",
              "      }\n",
              "      quickchartButtonEl.classList.remove('colab-df-spinner');\n",
              "      quickchartButtonEl.classList.add('colab-df-quickchart-complete');\n",
              "    }\n",
              "    (() => {\n",
              "      let quickchartButtonEl =\n",
              "        document.querySelector('#df-0137a293-bb2d-44b5-a897-278ae30cf0c8 button');\n",
              "      quickchartButtonEl.style.display =\n",
              "        google.colab.kernel.accessAllowed ? 'block' : 'none';\n",
              "    })();\n",
              "  </script>\n",
              "</div>\n",
              "\n",
              "    </div>\n",
              "  </div>\n"
            ],
            "application/vnd.google.colaboratory.intrinsic+json": {
              "type": "dataframe",
              "variable_name": "df",
              "summary": "{\n  \"name\": \"df\",\n  \"rows\": 10,\n  \"fields\": [\n    {\n      \"column\": \"A\",\n      \"properties\": {\n        \"dtype\": \"number\",\n        \"std\": 0.3381404486567568,\n        \"min\": 0.05381692103869662,\n        \"max\": 0.9416195535083849,\n        \"num_unique_values\": 10,\n        \"samples\": [\n          0.8517424314351982,\n          0.7034704496389791,\n          0.08456576555814488\n        ],\n        \"semantic_type\": \"\",\n        \"description\": \"\"\n      }\n    },\n    {\n      \"column\": \"B\",\n      \"properties\": {\n        \"dtype\": \"number\",\n        \"std\": 0.22481040952742007,\n        \"min\": 0.10440381665537801,\n        \"max\": 0.8279263169337163,\n        \"num_unique_values\": 10,\n        \"samples\": [\n          0.6277149953604518,\n          0.8279263169337163,\n          0.6425092711169041\n        ],\n        \"semantic_type\": \"\",\n        \"description\": \"\"\n      }\n    },\n    {\n      \"column\": \"C\",\n      \"properties\": {\n        \"dtype\": \"number\",\n        \"std\": 0.2585287577083786,\n        \"min\": 0.04395348217516404,\n        \"max\": 0.913448649168924,\n        \"num_unique_values\": 10,\n        \"samples\": [\n          0.6730855410266375,\n          0.41816825031332405,\n          0.04395348217516404\n        ],\n        \"semantic_type\": \"\",\n        \"description\": \"\"\n      }\n    },\n    {\n      \"column\": \"D\",\n      \"properties\": {\n        \"dtype\": \"number\",\n        \"std\": 0.3499603324048745,\n        \"min\": 0.0032717532860603304,\n        \"max\": 0.9682662929126002,\n        \"num_unique_values\": 10,\n        \"samples\": [\n          0.7516090351329999,\n          0.024088641993675775,\n          0.0032717532860603304\n        ],\n        \"semantic_type\": \"\",\n        \"description\": \"\"\n      }\n    }\n  ]\n}"
            }
          },
          "metadata": {},
          "execution_count": 14
        }
      ]
    },
    {
      "cell_type": "code",
      "source": [
        "df.to_csv(\"save.csv\", index = True, float_format=\"%0.4f\")\n",
        "df.to_pickle(\"save.pk1\")"
      ],
      "metadata": {
        "id": "wEza8iP5H-zU"
      },
      "execution_count": 15,
      "outputs": []
    },
    {
      "cell_type": "code",
      "source": [
        "from google.colab import drive\n",
        "drive.mount('/content/drive')"
      ],
      "metadata": {
        "colab": {
          "base_uri": "https://localhost:8080/"
        },
        "id": "1s_juTHmIXWW",
        "outputId": "272ce904-9913-4826-fdb7-4d2b94e6d593"
      },
      "execution_count": 16,
      "outputs": [
        {
          "output_type": "stream",
          "name": "stdout",
          "text": [
            "Mounted at /content/drive\n"
          ]
        }
      ]
    },
    {
      "cell_type": "code",
      "source": [
        "pd.read_csv('Data.csv')"
      ],
      "metadata": {
        "id": "IEXhRikzIhsz",
        "collapsed": true
      },
      "execution_count": null,
      "outputs": []
    },
    {
      "cell_type": "markdown",
      "source": [
        "#Data Preprocessing"
      ],
      "metadata": {
        "id": "7Zx85AaUzZVY"
      }
    },
    {
      "cell_type": "code",
      "source": [
        "import matplotlib.pyplot as pyplot"
      ],
      "metadata": {
        "id": "S2LTCGIlJ12G"
      },
      "execution_count": null,
      "outputs": []
    },
    {
      "cell_type": "code",
      "source": [
        "from google.colab import files\n",
        "uploaded = files.upload()"
      ],
      "metadata": {
        "id": "NzTuN3mHL9SA"
      },
      "execution_count": null,
      "outputs": []
    },
    {
      "cell_type": "code",
      "source": [
        "#Independent Variables: Country, Age, Slary\n",
        "#Dependant Variables : Purchased\n",
        "dataset = pd.read_csv(\"Data (1) (1).csv\")\n",
        "print(dataset)\n",
        "dataset"
      ],
      "metadata": {
        "id": "CgJsfltnMEds"
      },
      "execution_count": null,
      "outputs": []
    },
    {
      "cell_type": "code",
      "source": [
        "#Print rows and columns in dataset\n",
        "print(dataset.shape)"
      ],
      "metadata": {
        "id": "cV1GnCABMfRU"
      },
      "execution_count": null,
      "outputs": []
    },
    {
      "cell_type": "code",
      "source": [
        "#Print informaton bout dataset\n",
        "#Object  means categorical values like france, spain, character, values\n",
        "dataset.info()"
      ],
      "metadata": {
        "id": "PT3EAHxZMzhu"
      },
      "execution_count": null,
      "outputs": []
    },
    {
      "cell_type": "code",
      "source": [
        "datatypes = dataset.dtypes\n",
        "print(datatypes)"
      ],
      "metadata": {
        "id": "JHt5PqVbM5RG"
      },
      "execution_count": null,
      "outputs": []
    },
    {
      "cell_type": "code",
      "source": [
        "#Count total no of classes in Data\n",
        "class_counts = dataset.groupby('Purchased').size()\n",
        "print(class_counts)"
      ],
      "metadata": {
        "id": "KnuCAc2WOXzv"
      },
      "execution_count": null,
      "outputs": []
    },
    {
      "cell_type": "code",
      "source": [
        "##Count total no of classes in Data\n",
        "class_counts = dataset.groupby('Country').size()\n",
        "print(class_counts)"
      ],
      "metadata": {
        "id": "wLoVzTu7Ojql"
      },
      "execution_count": null,
      "outputs": []
    },
    {
      "cell_type": "code",
      "source": [
        "import matplotlib.pyplot as pyplot\n",
        "dataset.hist() #Histogram on neumerical values only. Range shown by histogram.\n",
        "pyplot.show()"
      ],
      "metadata": {
        "id": "wRmKAUAjO0bm"
      },
      "execution_count": null,
      "outputs": []
    },
    {
      "cell_type": "code",
      "source": [
        "dataset.isnull().sum() #Checking null entries. Sum of all true values. Zero means not containing null value."
      ],
      "metadata": {
        "id": "Zsx8pgNVPMUy"
      },
      "execution_count": null,
      "outputs": []
    },
    {
      "cell_type": "code",
      "source": [
        "dataset.isnull()"
      ],
      "metadata": {
        "id": "QK3EtJA_PweS"
      },
      "execution_count": null,
      "outputs": []
    },
    {
      "cell_type": "code",
      "source": [
        "df = dataset.dropna() #Dropping rows with atleast 1 null value using dropna() function.\n",
        "print(df) #Rows 4th & 6th are dropped."
      ],
      "metadata": {
        "id": "XV3lSQ5KP0lN"
      },
      "execution_count": null,
      "outputs": []
    },
    {
      "cell_type": "code",
      "source": [
        "#Dropping rows if any value is missing\n",
        "df = dataset.dropna(how = \"all\")\n",
        "print(df)"
      ],
      "metadata": {
        "id": "eeg3JiM0QLkg"
      },
      "execution_count": null,
      "outputs": []
    },
    {
      "cell_type": "code",
      "source": [
        "#Dropping rows if any value in that row is missing. Axis value 1 means column\n",
        "df = dataset.dropna(axis = 1, how = \"all\")\n",
        "print(df)"
      ],
      "metadata": {
        "id": "lOjBQ4InQsEj"
      },
      "execution_count": null,
      "outputs": []
    },
    {
      "cell_type": "code",
      "source": [
        "df = dataset.fillna(0) #Filling null values with single value. Filling missing values with fillna().\n",
        "print(df)"
      ],
      "metadata": {
        "id": "xt04lq5qRG6r"
      },
      "execution_count": null,
      "outputs": []
    },
    {
      "cell_type": "code",
      "source": [
        "\n",
        "\n",
        "#Filling null values with previous ones\n",
        "\n",
        "print(dataset)\n",
        "\n",
        "print(\"------------------After Padding------------------------\")\n",
        "df = dataset.fillna(method = 'pad') #Filling null values with single value. Filling missing values with fillna(). Forward fill.\n",
        "print(df)"
      ],
      "metadata": {
        "id": "NwsAhwEARMcs"
      },
      "execution_count": null,
      "outputs": []
    },
    {
      "cell_type": "code",
      "source": [
        "#Filling null values with next ones\n",
        "#Values in current NaN cella are filed from\n",
        "\n",
        "print(dataset)\n",
        "\n",
        "print(\"------------------After Padding------------------------\")\n",
        "df = dataset.fillna(method = 'bfill') #Filling null values with single value. Filling missing values with fillna(). Forward fill.\n",
        "print(df)"
      ],
      "metadata": {
        "id": "zW0_WUxaRgBi"
      },
      "execution_count": null,
      "outputs": []
    },
    {
      "cell_type": "code",
      "source": [
        "dataset = pd.read_csv(\"Data.csv\")\n",
        "print(dataset)\n",
        "print(\"------------------------------------------------------\")\n",
        "\n",
        "#Select rows and columns by their integer index positions.\n",
        "\n",
        "df = dataset.iloc[1:3, 2:3] # [  [1,3), [2,3) ]\n",
        "print(df)\n",
        "\n",
        "#[1:3, 2:3] specifies that you want rows from index 1 to 2 (up to, but not including index 3), and columns from index 2 to 2 (only column at index 2)."
      ],
      "metadata": {
        "id": "qNWJPq24SEIc"
      },
      "execution_count": null,
      "outputs": []
    },
    {
      "cell_type": "code",
      "source": [
        "df = dataset.iloc[:,:] # [  [1,3), [2,3) ]\n",
        "print(df)\n"
      ],
      "metadata": {
        "id": "138OxIAGSWbQ"
      },
      "execution_count": null,
      "outputs": []
    },
    {
      "cell_type": "code",
      "source": [
        "df['Salary'].fillna(df['Salary'].median(), inplace = True)\n",
        "print(df)\n",
        "\n",
        "#This code fills in missing values in the 'Salary' column of the DataFrame df with the median value of the 'Salary' column, and then prints the DataFrame.\n",
        "#inplace : This parameter modifies the DataFrame df in place, applying the changes directly to the original DataFrame."
      ],
      "metadata": {
        "id": "aePtyevnT4aV"
      },
      "execution_count": null,
      "outputs": []
    },
    {
      "cell_type": "code",
      "source": [
        "df['Country'].replace(['France', 'Spain', 'Germany'], [0,1,2], inplace = True)\n",
        "print(df)"
      ],
      "metadata": {
        "id": "7Pq-C5WrUGZB"
      },
      "execution_count": null,
      "outputs": []
    },
    {
      "cell_type": "markdown",
      "source": [
        "\n",
        "- Interpolation\n",
        "-One Hot Encoding\n",
        "-Label Encoding"
      ],
      "metadata": {
        "id": "SJXKzgP0Oyd9"
      }
    },
    {
      "cell_type": "code",
      "source": [
        "import pandas as pd\n",
        "from google.colab import files\n",
        "uploaded = files.upload()"
      ],
      "metadata": {
        "id": "k9qXQBQHWJ70"
      },
      "execution_count": null,
      "outputs": []
    },
    {
      "cell_type": "code",
      "source": [
        "dataframe = pd.read_csv('Data (1).csv')"
      ],
      "metadata": {
        "id": "LwuCDpuyMxYS"
      },
      "execution_count": null,
      "outputs": []
    },
    {
      "cell_type": "code",
      "source": [
        "import numpy as np\n",
        "dataframe = dataset.replace(to_replace = np.nan, value=-99)\n",
        "print(dataframe)"
      ],
      "metadata": {
        "id": "luQ-mOwtOIx1"
      },
      "execution_count": null,
      "outputs": []
    },
    {
      "cell_type": "code",
      "source": [
        "#We can do Interpolations to replace NaN values instead of mean, mode median.Dropna, fillna, to_replace, interpolation\n",
        "\n",
        "import pandas as pd\n",
        "pf = pd.DataFrame({\n",
        "    \"A\":[2,4,5,None],\n",
        "    \"B\":[None, 3,4,2],\n",
        "    \"C\":[3,None, 4,1],\n",
        "    \"D\":[2,3,None,5]\n",
        "})\n",
        "df = pf.interpolate(method = \"linear\", limitdirection= 'forward')\n",
        "print(df)"
      ],
      "metadata": {
        "id": "tXFsfgGPOQHJ"
      },
      "execution_count": null,
      "outputs": []
    },
    {
      "cell_type": "code",
      "source": [
        "#String to Neumeric : 1) One Hot 2) Label Encoding\n",
        "dataframe['Country'].replace(['France', 'Spain', 'Germany'],[0, 1, 2], inplace=True)"
      ],
      "metadata": {
        "id": "sm4AsPGkSZGB"
      },
      "execution_count": null,
      "outputs": []
    },
    {
      "cell_type": "code",
      "source": [
        "print(dataframe)"
      ],
      "metadata": {
        "id": "OLelZ1bfUoiY"
      },
      "execution_count": null,
      "outputs": []
    },
    {
      "cell_type": "code",
      "source": [
        "dataframe['Purchased'].replace(['Yes', 'No'],[1,0], inplace=True)\n",
        "print(dataframe)"
      ],
      "metadata": {
        "id": "4gj1ns-3Utfi"
      },
      "execution_count": null,
      "outputs": []
    },
    {
      "cell_type": "code",
      "source": [
        "dummies = pd.get_dummies(dataframe.Country) #One-Hot Encoding\n",
        "print(dummies)"
      ],
      "metadata": {
        "id": "a5gxesHuU2Vz"
      },
      "execution_count": null,
      "outputs": []
    },
    {
      "cell_type": "code",
      "source": [
        "merged = pd.concat([dataframe, dummies], axis='columns')\n",
        "print(merged)"
      ],
      "metadata": {
        "id": "X8asYG1EVf33"
      },
      "execution_count": null,
      "outputs": []
    },
    {
      "cell_type": "code",
      "source": [
        "merged.drop('Country', axis=1, inplace=True)\n",
        "print(merged)"
      ],
      "metadata": {
        "id": "Ea49CYcmWnmO"
      },
      "execution_count": null,
      "outputs": []
    },
    {
      "cell_type": "code",
      "source": [
        "X = pd.read_csv(\"Data (1).csv\")\n",
        "print(dataset)\n",
        "print(\"--------------------------\")\n",
        "X = dataset.iloc[:,0:3].values\n",
        "print(X)"
      ],
      "metadata": {
        "id": "3Vv7giThXT6x"
      },
      "execution_count": null,
      "outputs": []
    },
    {
      "cell_type": "code",
      "source": [
        "Y = dataset.iloc[:,3:].values\n",
        "print(Y)"
      ],
      "metadata": {
        "id": "7B7NbXqkXgdc"
      },
      "execution_count": null,
      "outputs": []
    },
    {
      "cell_type": "code",
      "source": [
        "from sklearn.impute import SimpleImputer\n",
        "imputer = SimpleImputer(missing_values= np.NAN, strategy= 'mean', copy=True)\n",
        "imputer = imputer.fit(X[:, 1:3]) #1:3 as model to fit on integer values\n",
        "X[:, 1:3]= imputer.transform(X[:, 1:3]) #Replace missing data with mean values"
      ],
      "metadata": {
        "id": "7lY8C4IPYMJ9"
      },
      "execution_count": null,
      "outputs": []
    },
    {
      "cell_type": "code",
      "source": [
        "print(X)"
      ],
      "metadata": {
        "id": "0v2R_NgHZZlM"
      },
      "execution_count": null,
      "outputs": []
    },
    {
      "cell_type": "code",
      "source": [
        "details = pd.DataFrame(X, columns =['Country', 'Age',  'Salary'])\n",
        "details.isnull().sum() #No missing values found"
      ],
      "metadata": {
        "id": "-lX-ySl3Zodi"
      },
      "execution_count": null,
      "outputs": []
    },
    {
      "cell_type": "code",
      "source": [
        "from sklearn.preprocessing import LabelEncoder\n",
        "labelencoder_X = LabelEncoder()\n",
        "X[:, 0] = labelencoder_X.fit_transform(X[:, 0])\n",
        "print(X)"
      ],
      "metadata": {
        "id": "jEMQy8Vbal9h"
      },
      "execution_count": null,
      "outputs": []
    },
    {
      "cell_type": "code",
      "source": [
        "labelencoder_X = LabelEncoder()\n",
        "X[:, 3] = labelencoder_X.fit_transform(X[:, 3])\n",
        "print(X)"
      ],
      "metadata": {
        "id": "QmR-51fNbVfK"
      },
      "execution_count": null,
      "outputs": []
    },
    {
      "cell_type": "code",
      "source": [
        "#Inplace, copy, remainder have same role\n",
        "#dummy encoding.\n",
        "from sklearn.preprocessing import OneHotEncoder\n",
        "from sklearn.compose import ColumnTransformer\n",
        "\n",
        "columnTransformer = ColumnTransformer([(OneHotEncoder(), [0])],remainder='passthrough')#'encoder',  remainder will work as same as inplace=true\n",
        "X=columnTransformer.fit_transform(X)\n",
        "print(X)"
      ],
      "metadata": {
        "id": "qfLLPrzrb9hU"
      },
      "execution_count": null,
      "outputs": []
    },
    {
      "cell_type": "code",
      "source": [
        "from sklearn.model_selection import train_test_split\n",
        "X_train, X_test, y_train, y_test = train_test_split(X, Y, test_size = 0.2, random_state = 42)\n",
        "\n",
        "print('X_train : ' ,  X_train )\n",
        "print(\"-----------------------------\")\n",
        "print('X_test : ' ,  X_test )\n",
        "print(\"-----------------------------\")\n",
        "print('y_train : ' , y_train )\n",
        "print(\"-----------------------------\")\n",
        "print('y_test : ' ,  y_test )"
      ],
      "metadata": {
        "id": "7OpctzOgciHb"
      },
      "execution_count": null,
      "outputs": []
    },
    {
      "cell_type": "code",
      "source": [],
      "metadata": {
        "id": "C6DiP5Ruc_af"
      },
      "execution_count": null,
      "outputs": []
    }
  ]
}