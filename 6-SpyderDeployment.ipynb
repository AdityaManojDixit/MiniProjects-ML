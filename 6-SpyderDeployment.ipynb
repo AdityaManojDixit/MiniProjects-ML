{
  "nbformat": 4,
  "nbformat_minor": 0,
  "metadata": {
    "colab": {
      "provenance": []
    },
    "kernelspec": {
      "name": "python3",
      "display_name": "Python 3"
    },
    "language_info": {
      "name": "python"
    }
  },
  "cells": [
    {
      "cell_type": "code",
      "source": [
        "# # Data Preprocessing\n",
        "# Importing the libraries\n",
        "import numpy as np\n",
        "import matplotlib.pyplot as plt\n",
        "import pandas as pd\n",
        "print(\"Libraries are installed\")"
      ],
      "metadata": {
        "id": "CoT_jZRa_Pd_",
        "outputId": "4831cd52-c0cc-4f43-96e8-1a637cea4bd0",
        "colab": {
          "base_uri": "https://localhost:8080/"
        }
      },
      "execution_count": null,
      "outputs": [
        {
          "output_type": "stream",
          "name": "stdout",
          "text": [
            "Libraries are installed\n"
          ]
        }
      ]
    },
    {
      "cell_type": "code",
      "source": [
        "dataset=pd.read_csv('C:\\\\Users\\\\POORNIMA\\\\Downloads\\\\Social_Network_Ads.csv')"
      ],
      "metadata": {
        "id": "c_YLJbv__GN0"
      },
      "execution_count": null,
      "outputs": []
    },
    {
      "cell_type": "code",
      "source": [
        "print(dataset)"
      ],
      "metadata": {
        "id": "z8eNJXN2AARA"
      },
      "execution_count": null,
      "outputs": []
    },
    {
      "cell_type": "code",
      "source": [
        "dataset.shape"
      ],
      "metadata": {
        "id": "uWY1OMdzAC4n"
      },
      "execution_count": null,
      "outputs": []
    },
    {
      "cell_type": "code",
      "source": [
        "dataset.info()"
      ],
      "metadata": {
        "id": "NDS7iWQNAE_N"
      },
      "execution_count": null,
      "outputs": []
    },
    {
      "cell_type": "code",
      "source": [
        "dataset.isnull().sum()"
      ],
      "metadata": {
        "id": "AO0fTqozAHFI"
      },
      "execution_count": null,
      "outputs": []
    },
    {
      "cell_type": "code",
      "source": [
        "# Extracting dependent and independent variables:\n",
        "# Extracting independent variable:\n",
        "X = dataset.iloc[:, 2:4].values\n",
        "# Extracting dependent variable:\n",
        "y = dataset.iloc[:, 4].values"
      ],
      "metadata": {
        "id": "2X8NaOeLAJTN"
      },
      "execution_count": null,
      "outputs": []
    },
    {
      "cell_type": "code",
      "source": [
        "# Splitting the dataset into the Training set and Test set\n",
        "from sklearn.model_selection import train_test_split\n",
        "\n",
        "X_train, X_test, y_train, y_test = train_test_split(X, y, test_size = 0.25, random_state = 24)"
      ],
      "metadata": {
        "id": "0hY-ZVosAO_G"
      },
      "execution_count": null,
      "outputs": []
    },
    {
      "cell_type": "code",
      "source": [
        "# Feature Scaling\n",
        "from sklearn.preprocessing import StandardScaler\n",
        "sc = StandardScaler()\n",
        "X_train = sc.fit_transform(X_train)\n",
        "X_test = sc.transform(X_test)"
      ],
      "metadata": {
        "id": "fQ2MTHVxAScP"
      },
      "execution_count": null,
      "outputs": []
    },
    {
      "cell_type": "code",
      "source": [
        "# Fitting SVM to the Training set\n",
        "from sklearn.svm import SVC\n",
        "classifier = SVC(kernel = 'linear', random_state = 0)\n",
        "classifier.fit(X_train, y_train)"
      ],
      "metadata": {
        "id": "hXrSx8liAV_d"
      },
      "execution_count": null,
      "outputs": []
    },
    {
      "cell_type": "code",
      "source": [
        "import pickle\n",
        "print(\"[INFO] Saving model...\")\n",
        "# Save the trained model as a pickle string.\n",
        "saved_model=pickle.dump(classifier,open('svm.pkl', 'wb'))"
      ],
      "metadata": {
        "id": "ayrxa5l8znG0"
      },
      "execution_count": null,
      "outputs": []
    },
    {
      "cell_type": "code",
      "source": [
        "# Load the pickled model\n",
        "model = pickle.load(open('svmmodel.pkl', 'rb'))\n",
        "# Use the loaded pickled model to make predictions\n",
        "model.predict(X_test)"
      ],
      "metadata": {
        "id": "Ehr3fs1BAYV1"
      },
      "execution_count": null,
      "outputs": []
    },
    {
      "cell_type": "markdown",
      "source": [
        "# **Above code is in Jupyter notebook and below code in Spyder  save it with app.py name and run on command prompt streamlit run app.py**\n",
        "# **pip install streamlit==0.62.0 \" pip install protobuf==3.20.***"
      ],
      "metadata": {
        "id": "eM7Q4K3OAcVd"
      }
    },
    {
      "cell_type": "code",
      "execution_count": null,
      "metadata": {
        "id": "bfMoOJAt_DGC"
      },
      "outputs": [],
      "source": [
        "import streamlit as st\n",
        "from PIL import Image\n",
        "import pickle\n",
        "import numpy as np\n",
        "import matplotlib.pyplot as plt\n",
        "import pandas as pd\n",
        "#st.set_option('deprecation.showfileUploaderEncoding', False)\n",
        "# Load the pickled model\n",
        "model = pickle.load(open('svmmodel.pkl', 'rb'))\n",
        "\n",
        "dataset= pd.read_csv('Social_Network_Ads.csv')\n",
        "X = dataset.iloc[:, [2, 3]].values\n",
        "from sklearn.preprocessing import StandardScaler\n",
        "sc = StandardScaler()\n",
        "X = sc.fit_transform(X)\n",
        "def predict_note_authentication(UserID, Gender,Age,EstimatedSalary):\n",
        "  output= model.predict(sc.transform([[Age,EstimatedSalary]]))\n",
        "  print(\"Purchased\", output)\n",
        "  if output==[1]:\n",
        "    prediction=\"Item will be purchased\"\n",
        "  else:\n",
        "    prediction=\"Item will not be purchased\"\n",
        "  print(prediction)\n",
        "  return prediction\n",
        "\n",
        "def main():\n",
        "\n",
        "    html_temp = \"\"\"\n",
        "   <div class=\"\" style=\"background-color:blue;\" >\n",
        "   <div class=\"clearfix\">\n",
        "   <div class=\"col-md-12\">\n",
        "   <center><p style=\"font-size:40px;color:white;margin-top:10px;\">Poornima Institute of Engineering & Technology</p></center>\n",
        "   <center><p style=\"font-size:30px;color:white;margin-top:10px;\">Department of Computer Engineering</p></center>\n",
        "\n",
        "   </div>\n",
        "   </div>\n",
        "   </div>\n",
        "   \"\"\"\n",
        "    st.markdown(html_temp,unsafe_allow_html=True)\n",
        "    st.header(\"Item Purchase Prediction using SVM Algorithm\")\n",
        "    UserID = st.text_input(\"UserID\",\"\")\n",
        "    Gender = st.selectbox(\n",
        "    \"Gender\",\n",
        "    (\"Male\", \"Female\", \"Others\")\n",
        "    )\n",
        "\n",
        "    Age = st.number_input('Insert a Age',18,60)\n",
        "    #Age = st.text_input(\"Age\",\"Type Here\")\n",
        "    EstimatedSalary = st.number_input(\"Insert EstimatedSalary\",15000,150000)\n",
        "    result=\"\"\n",
        "    if st.button(\"SVM Prediction\"):\n",
        "      result=predict_note_authentication(UserID, Gender,Age,EstimatedSalary)\n",
        "      st.success('SVM Model has predicted {}'.format(result))\n",
        "\n",
        "    if st.button(\"About\"):\n",
        "      st.header(\"Developed by Shikha Gautam\")\n",
        "      st.subheader(\"Assistant Professor , Department of Computer Engineering\")\n",
        "    html_temp = \"\"\"\n",
        "    <div class=\"\" style=\"background-color:orange;\" >\n",
        "    <div class=\"clearfix\">\n",
        "    <div class=\"col-md-12\">\n",
        "    <center><p style=\"font-size:20px;color:white;margin-top:10px;\">Machine Learning Experiment : Support Vector Machine</p></center>\n",
        "    </div>\n",
        "    </div>\n",
        "    </div>\n",
        "    \"\"\"\n",
        "    st.markdown(html_temp,unsafe_allow_html=True)\n",
        "if __name__=='__main__':\n",
        "  main()\n"
      ]
    },
    {
      "cell_type": "code",
      "source": [
        "import streamlit as st\n",
        "from PIL import Image\n",
        "import pickle\n",
        "import numpy as np\n",
        "import matplotlib.pyplot as plt\n",
        "import pandas as pd\n",
        "#st.set_option('deprecation.showfileUploaderEncoding', False)\n",
        "# Load the pickled model\n",
        "model = pickle.load(open('svm.pkl', 'rb'))\n",
        "\n",
        "dataset= pd.read_csv('Social_Network_Ads.csv')\n",
        "X = dataset.iloc[:, [2, 3]].values\n",
        "from sklearn.preprocessing import StandardScaler\n",
        "sc = StandardScaler()\n",
        "X = sc.fit_transform(X)\n",
        "def predict_note_authentication(UserID, Gender,Age,EstimatedSalary):\n",
        "  output= model.predict(sc.transform([[Age,EstimatedSalary]]))\n",
        "  print(\"Purchased\", output)\n",
        "  if output==[1]:\n",
        "    prediction=\"Item will be purchased\"\n",
        "  else:\n",
        "    prediction=\"Item will not be purchased\"\n",
        "  print(prediction)\n",
        "  return prediction\n",
        "\n",
        "def main():\n",
        "\n",
        "    html_temp = \"\"\"\n",
        "  <div style=\"background-color:blue;\">\n",
        "    <div>\n",
        "        <div style=\"text-align:center;\">\n",
        "            <p style=\"font-size:40px;color:white;margin-top:10px;\">Poornima Institute of Engineering & Technology</p>\n",
        "            <p style=\"font-size:30px;color:white;margin-top:10px;\">Department of Computer Engineering</p>\n",
        "        </div>\n",
        "    </div>\n",
        "</div>\n",
        "   \"\"\"\n",
        "    st.markdown(html_temp,unsafe_allow_html=True)\n",
        "    st.header(\"Item Purchase Prediction using SVM Algorithm\")\n",
        "    UserID = st.text_input(\"UserID\",\"\")\n",
        "    Gender = st.selectbox(\n",
        "    \"Gender\",\n",
        "    (\"Male\", \"Female\", \"Others\")\n",
        "    )\n",
        "\n",
        "    Age = st.number_input('Insert a Age',18,60)\n",
        "    #Age = st.text_input(\"Age\",\"Type Here\")\n",
        "    EstimatedSalary = st.number_input(\"Insert EstimatedSalary\",15000,150000)\n",
        "    result=\"\"\n",
        "    if st.button(\"SVM Prediction\"):\n",
        "      result=predict_note_authentication(UserID, Gender,Age,EstimatedSalary)\n",
        "      st.success('SVM Model has predicted {}'.format(result))\n",
        "\n",
        "    if st.button(\"About\"):\n",
        "      st.header(\"Developed by Shikha Gautam\")\n",
        "      st.subheader(\"Assistant Professor , Department of Computer Engineering\")\n",
        "    html_temp = \"\"\"\n",
        "    <div class=\"\" style=\"background-color:orange;\" >\n",
        "    <div class=\"clearfix\">\n",
        "    <div class=\"col-md-12\">\n",
        "    <center><p style=\"font-size:20px;color:white;margin-top:10px;\">Machine Learning Experiment : Support Vector Machine</p></center>\n",
        "    </div>\n",
        "    </div>\n",
        "    </div>\n",
        "    \"\"\"\n",
        "    st.markdown(html_temp,unsafe_allow_html=True)\n",
        "if __name__=='__main__':\n",
        "  main()"
      ],
      "metadata": {
        "id": "L9eXsRG_-pOz"
      },
      "execution_count": null,
      "outputs": []
    }
  ]
}